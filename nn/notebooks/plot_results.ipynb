{
 "cells": [
  {
   "cell_type": "code",
   "execution_count": 1,
   "metadata": {
    "scrolled": false
   },
   "outputs": [
    {
     "name": "stdout",
     "output_type": "stream",
     "text": [
      "/home/michaelwilliams/git_repos/Accelerating-GWPE/nn/\n"
     ]
    }
   ],
   "source": [
    "import sys\n",
    "sys.path.append('/home/michaelwilliams/git_repos/Accelerating-GWPE/nn/')\n",
    "print(sys.path[-1])"
   ]
  },
  {
   "cell_type": "code",
   "execution_count": 2,
   "metadata": {
    "scrolled": true
   },
   "outputs": [
    {
     "name": "stderr",
     "output_type": "stream",
     "text": [
      "/home/michaelwilliams/.miniconda3/envs/tf/lib/python3.7/site-packages/tensorflow/python/framework/dtypes.py:516: FutureWarning: Passing (type, 1) or '1type' as a synonym of type is deprecated; in a future version of numpy, it will be understood as (type, (1,)) / '(1,)type'.\n",
      "  _np_qint8 = np.dtype([(\"qint8\", np.int8, 1)])\n",
      "/home/michaelwilliams/.miniconda3/envs/tf/lib/python3.7/site-packages/tensorflow/python/framework/dtypes.py:517: FutureWarning: Passing (type, 1) or '1type' as a synonym of type is deprecated; in a future version of numpy, it will be understood as (type, (1,)) / '(1,)type'.\n",
      "  _np_quint8 = np.dtype([(\"quint8\", np.uint8, 1)])\n",
      "/home/michaelwilliams/.miniconda3/envs/tf/lib/python3.7/site-packages/tensorflow/python/framework/dtypes.py:518: FutureWarning: Passing (type, 1) or '1type' as a synonym of type is deprecated; in a future version of numpy, it will be understood as (type, (1,)) / '(1,)type'.\n",
      "  _np_qint16 = np.dtype([(\"qint16\", np.int16, 1)])\n",
      "/home/michaelwilliams/.miniconda3/envs/tf/lib/python3.7/site-packages/tensorflow/python/framework/dtypes.py:519: FutureWarning: Passing (type, 1) or '1type' as a synonym of type is deprecated; in a future version of numpy, it will be understood as (type, (1,)) / '(1,)type'.\n",
      "  _np_quint16 = np.dtype([(\"quint16\", np.uint16, 1)])\n",
      "/home/michaelwilliams/.miniconda3/envs/tf/lib/python3.7/site-packages/tensorflow/python/framework/dtypes.py:520: FutureWarning: Passing (type, 1) or '1type' as a synonym of type is deprecated; in a future version of numpy, it will be understood as (type, (1,)) / '(1,)type'.\n",
      "  _np_qint32 = np.dtype([(\"qint32\", np.int32, 1)])\n",
      "/home/michaelwilliams/.miniconda3/envs/tf/lib/python3.7/site-packages/tensorflow/python/framework/dtypes.py:525: FutureWarning: Passing (type, 1) or '1type' as a synonym of type is deprecated; in a future version of numpy, it will be understood as (type, (1,)) / '(1,)type'.\n",
      "  np_resource = np.dtype([(\"resource\", np.ubyte, 1)])\n",
      "/home/michaelwilliams/.miniconda3/envs/tf/lib/python3.7/site-packages/tensorboard/compat/tensorflow_stub/dtypes.py:541: FutureWarning: Passing (type, 1) or '1type' as a synonym of type is deprecated; in a future version of numpy, it will be understood as (type, (1,)) / '(1,)type'.\n",
      "  _np_qint8 = np.dtype([(\"qint8\", np.int8, 1)])\n",
      "/home/michaelwilliams/.miniconda3/envs/tf/lib/python3.7/site-packages/tensorboard/compat/tensorflow_stub/dtypes.py:542: FutureWarning: Passing (type, 1) or '1type' as a synonym of type is deprecated; in a future version of numpy, it will be understood as (type, (1,)) / '(1,)type'.\n",
      "  _np_quint8 = np.dtype([(\"quint8\", np.uint8, 1)])\n",
      "/home/michaelwilliams/.miniconda3/envs/tf/lib/python3.7/site-packages/tensorboard/compat/tensorflow_stub/dtypes.py:543: FutureWarning: Passing (type, 1) or '1type' as a synonym of type is deprecated; in a future version of numpy, it will be understood as (type, (1,)) / '(1,)type'.\n",
      "  _np_qint16 = np.dtype([(\"qint16\", np.int16, 1)])\n",
      "/home/michaelwilliams/.miniconda3/envs/tf/lib/python3.7/site-packages/tensorboard/compat/tensorflow_stub/dtypes.py:544: FutureWarning: Passing (type, 1) or '1type' as a synonym of type is deprecated; in a future version of numpy, it will be understood as (type, (1,)) / '(1,)type'.\n",
      "  _np_quint16 = np.dtype([(\"quint16\", np.uint16, 1)])\n",
      "/home/michaelwilliams/.miniconda3/envs/tf/lib/python3.7/site-packages/tensorboard/compat/tensorflow_stub/dtypes.py:545: FutureWarning: Passing (type, 1) or '1type' as a synonym of type is deprecated; in a future version of numpy, it will be understood as (type, (1,)) / '(1,)type'.\n",
      "  _np_qint32 = np.dtype([(\"qint32\", np.int32, 1)])\n",
      "/home/michaelwilliams/.miniconda3/envs/tf/lib/python3.7/site-packages/tensorboard/compat/tensorflow_stub/dtypes.py:550: FutureWarning: Passing (type, 1) or '1type' as a synonym of type is deprecated; in a future version of numpy, it will be understood as (type, (1,)) / '(1,)type'.\n",
      "  np_resource = np.dtype([(\"resource\", np.ubyte, 1)])\n",
      "Using TensorFlow backend.\n"
     ]
    },
    {
     "name": "stdout",
     "output_type": "stream",
     "text": [
      "Setting up Keras to use GPU with miminal memory on 0\n",
      "WARNING:tensorflow:From /home/michaelwilliams/git_repos/Accelerating-GWPE/nn/gwfa/utils/general.py:20: The name tf.ConfigProto is deprecated. Please use tf.compat.v1.ConfigProto instead.\n",
      "\n",
      "WARNING:tensorflow:From /home/michaelwilliams/git_repos/Accelerating-GWPE/nn/gwfa/utils/general.py:27: The name tf.Session is deprecated. Please use tf.compat.v1.Session instead.\n",
      "\n"
     ]
    }
   ],
   "source": [
    "import numpy as np\n",
    "from gwfa.utils.plotting import read_results"
   ]
  },
  {
   "cell_type": "code",
   "execution_count": 3,
   "metadata": {},
   "outputs": [
    {
     "data": {
      "text/plain": [
       "2080.0"
      ]
     },
     "execution_count": 3,
     "metadata": {},
     "output_type": "execute_result"
    }
   ],
   "source": [
    "x = {\"luminosity_distance\": 2000., \"theta_jn\": 0., \"mass_1\": 30., \"mass_2\": 50.}\n",
    "y = [x[a] for a in x.keys()]\n",
    "z = np.sum(y)\n",
    "z"
   ]
  },
  {
   "cell_type": "code",
   "execution_count": 18,
   "metadata": {},
   "outputs": [],
   "source": [
    "d = read_results(\"./mount_dir/4_params_m1_m2_ld_theta_jn/run0/\", \"results.h5\", concat=True)"
   ]
  },
  {
   "cell_type": "code",
   "execution_count": 19,
   "metadata": {
    "scrolled": true
   },
   "outputs": [
    {
     "name": "stdout",
     "output_type": "stream",
     "text": [
      "odict_keys(['JSD', 'KL', 'loss', 'parameters', 'val_JSD', 'val_KL', 'val_loss', 'x_train', 'x_val', 'y_pred', 'y_train', 'y_train_pred', 'y_val'])\n"
     ]
    }
   ],
   "source": [
    "print(d.keys())"
   ]
  },
  {
   "cell_type": "code",
   "execution_count": 20,
   "metadata": {},
   "outputs": [],
   "source": [
    "import matplotlib\n",
    "matplotlib.use('TkAgg')\n",
    "import matplotlib.pyplot as plt\n",
    "%matplotlib inline"
   ]
  },
  {
   "cell_type": "markdown",
   "metadata": {},
   "source": [
    "fig, ax = plt.subplots(2, 1, figsize=[12,12], sharex = True)\n",
    "ax = ax.ravel()\n",
    "n = len(d[\"val_loss\"])\n",
    "colors = plt.cm.tab20(np.linspace(0,1,n))\n",
    "for i in range(n):\n",
    "    ax[0].plot(d[\"val_loss\"][i], label = f\"Block {i+1}\", c=colors[i])\n",
    "    if i >= 7:\n",
    "        ax[1].plot(d[\"val_loss\"][i], label = f\"Run {i+1}\", c=colors[i])\n",
    "ax[0].set_ylabel(\"MSE\")\n",
    "ax[1].set_ylabel(\"MSE\")\n",
    "ax[1].set_xlabel(\"Epochs\")\n",
    "handles, labels = ax[0].get_legend_handles_labels()\n",
    "fig.legend(handles, labels, loc='center right')\n",
    "#fig.savefig(\"plots/loss_multiple_blocks.png\")\n",
    "plt.show()"
   ]
  },
  {
   "cell_type": "code",
   "execution_count": 41,
   "metadata": {
    "scrolled": true
   },
   "outputs": [],
   "source": [
    "from scipy.special import logsumexp\n",
    "def elu(x, alpha=0.01):\n",
    "    y = x.copy()\n",
    "    neg_indices = np.where(x <= 0.)\n",
    "    y[neg_indices] = alpha * (np.exp(y[neg_indices]) - 1.)\n",
    "    return y\n",
    "def ielu(x, alpha=0.01):\n",
    "    y = x.copy()\n",
    "    neg_indices = np.where(x <= 0.)\n",
    "    print(np.shape(neg_indices))\n",
    "    y[neg_indices] = np.log(y[neg_indices] / alpha + 1.)\n",
    "    return y"
   ]
  },
  {
   "cell_type": "code",
   "execution_count": 22,
   "metadata": {},
   "outputs": [],
   "source": [
    "from scipy.special import logit, expit"
   ]
  },
  {
   "cell_type": "code",
   "execution_count": 28,
   "metadata": {},
   "outputs": [
    {
     "name": "stdout",
     "output_type": "stream",
     "text": [
      "137.71406868485457 -71115.37717871944 71468\n"
     ]
    },
    {
     "data": {
      "text/plain": [
       "(array([1.0000e+00, 0.0000e+00, 0.0000e+00, 0.0000e+00, 1.0000e+00,\n",
       "        0.0000e+00, 0.0000e+00, 1.0000e+00, 6.0000e+00, 7.1459e+04]),\n",
       " array([-71115.37717872, -63990.06805398, -56864.75892924, -49739.4498045 ,\n",
       "        -42614.14067976, -35488.83155502, -28363.52243028, -21238.21330554,\n",
       "        -14112.9041808 ,  -6987.59505606,    137.71406868]),\n",
       " <a list of 10 Patch objects>)"
      ]
     },
     "execution_count": 28,
     "metadata": {},
     "output_type": "execute_result"
    },
    {
     "data": {
      "image/png": "[encoded data removed]",
      "text/plain": [
       "<Figure size 432x288 with 1 Axes>"
      ]
     },
     "metadata": {
      "needs_background": "light"
     },
     "output_type": "display_data"
    }
   ],
   "source": [
    "L = d[\"y_train\"]\n",
    "print(L.max(), L.min(), len(L))\n",
    "fig = plt.figure()\n",
    "plt.hist(L)"
   ]
  },
  {
   "cell_type": "code",
   "execution_count": 42,
   "metadata": {
    "scrolled": true
   },
   "outputs": [
    {
     "name": "stdout",
     "output_type": "stream",
     "text": [
      "-0.9 137.71406868485457\n"
     ]
    },
    {
     "data": {
      "text/plain": [
       "Text(0.5, 0, 'elu(logL)')"
      ]
     },
     "execution_count": 42,
     "metadata": {},
     "output_type": "execute_result"
    },
    {
     "data": {
      "image/png": "[encoded data removed]",
      "text/plain": [
       "<Figure size 432x288 with 1 Axes>"
      ]
     },
     "metadata": {
      "needs_background": "light"
     },
     "output_type": "display_data"
    }
   ],
   "source": [
    "y = elu(d[\"y_train\"], alpha=0.9)\n",
    "print(y.min(), y.max())\n",
    "fig = plt.figure()\n",
    "plt.hist(y, bins=50)\n",
    "#plt.plot(y, '.')\n",
    "plt.xlabel(\"elu(logL)\")\n",
    "#fig.savefig(\"./plots/expit.png\")"
   ]
  },
  {
   "cell_type": "code",
   "execution_count": 11,
   "metadata": {
    "scrolled": true
   },
   "outputs": [
    {
     "name": "stdout",
     "output_type": "stream",
     "text": [
      "(668800,)\n",
      "(1, 110239)\n"
     ]
    },
    {
     "name": "stderr",
     "output_type": "stream",
     "text": [
      "/home/michaelwilliams/.miniconda3/envs/tf/lib/python3.7/site-packages/ipykernel_launcher.py:11: RuntimeWarning: invalid value encountered in log\n",
      "  # This is added back by InteractiveShellApp.init_path()\n",
      "/home/michaelwilliams/.miniconda3/envs/tf/lib/python3.7/site-packages/numpy/lib/histograms.py:829: RuntimeWarning: invalid value encountered in greater_equal\n",
      "  keep = (tmp_a >= first_edge)\n",
      "/home/michaelwilliams/.miniconda3/envs/tf/lib/python3.7/site-packages/numpy/lib/histograms.py:830: RuntimeWarning: invalid value encountered in less_equal\n",
      "  keep &= (tmp_a <= last_edge)\n"
     ]
    },
    {
     "data": {
      "text/plain": [
       "Text(0.5, 0, 'ielu(logL)')"
      ]
     },
     "execution_count": 11,
     "metadata": {},
     "output_type": "execute_result"
    },
    {
     "data": {
      "image/png": "[encoded data removed]",
      "text/plain": [
       "<Figure size 432x288 with 1 Axes>"
      ]
     },
     "metadata": {
      "needs_background": "light"
     },
     "output_type": "display_data"
    }
   ],
   "source": [
    "fig = plt.figure()\n",
    "print(np.shape(y))\n",
    "plt.hist(ielu(y), bins=10, density=True)\n",
    "plt.xlabel(\"ielu(logL)\")"
   ]
  },
  {
   "cell_type": "code",
   "execution_count": 12,
   "metadata": {},
   "outputs": [
    {
     "name": "stdout",
     "output_type": "stream",
     "text": [
      "use\n"
     ]
    }
   ],
   "source": [
    "a = 2\n",
    "b = 1\n",
    "if a is None and b is None:\n",
    "    print(\"default\")\n",
    "elif a is None or b is None:\n",
    "    print(\"error\")\n",
    "else:\n",
    "    print(\"use\")"
   ]
  },
  {
   "cell_type": "code",
   "execution_count": 13,
   "metadata": {},
   "outputs": [],
   "source": [
    "from gwfa.function_approximator import FunctionApproximator"
   ]
  },
  {
   "cell_type": "code",
   "execution_count": 14,
   "metadata": {
    "scrolled": false
   },
   "outputs": [
    {
     "name": "stdout",
     "output_type": "stream",
     "text": [
      "Proceeding with no regularization\n",
      "WARNING:tensorflow:From /home/michaelwilliams/.miniconda3/envs/tf/lib/python3.7/site-packages/keras/backend/tensorflow_backend.py:517: The name tf.placeholder is deprecated. Please use tf.compat.v1.placeholder instead.\n",
      "\n",
      "WARNING:tensorflow:From /home/michaelwilliams/.miniconda3/envs/tf/lib/python3.7/site-packages/keras/backend/tensorflow_backend.py:4138: The name tf.random_uniform is deprecated. Please use tf.random.uniform instead.\n",
      "\n",
      "WARNING:tensorflow:From /home/michaelwilliams/.miniconda3/envs/tf/lib/python3.7/site-packages/keras/backend/tensorflow_backend.py:74: The name tf.get_default_graph is deprecated. Please use tf.compat.v1.get_default_graph instead.\n",
      "\n",
      "_________________________________________________________________\n",
      "Layer (type)                 Output Shape              Param #   \n",
      "=================================================================\n",
      "input_1 (InputLayer)         (None, 4)                 0         \n",
      "_________________________________________________________________\n",
      "p0_dense_0 (Dense)           (None, 2048)              10240     \n",
      "_________________________________________________________________\n",
      "p0_dense_1 (Dense)           (None, 2048)              4196352   \n",
      "_________________________________________________________________\n",
      "p0_dense_2 (Dense)           (None, 2048)              4196352   \n",
      "_________________________________________________________________\n",
      "p0_dense_3 (Dense)           (None, 2048)              4196352   \n",
      "_________________________________________________________________\n",
      "output_dense (Dense)         (None, 1)                 2049      \n",
      "=================================================================\n",
      "Total params: 12,601,345\n",
      "Trainable params: 12,601,345\n",
      "Non-trainable params: 0\n",
      "_________________________________________________________________\n",
      "Using mean_squared_error\n",
      "WARNING:tensorflow:From /home/michaelwilliams/.miniconda3/envs/tf/lib/python3.7/site-packages/keras/optimizers.py:790: The name tf.train.Optimizer is deprecated. Please use tf.compat.v1.train.Optimizer instead.\n",
      "\n"
     ]
    }
   ],
   "source": [
    "FA = FunctionApproximator(attr_dict=\"./mount_dir/4_params_m1_m2_ld_theta_jn/run1/fa.pkl\", verbose=0)\n",
    "FA.load_weights(\"./mount_dir/4_params_m1_m2_ld_theta_jn/run1/block18/model_weights.h5\")"
   ]
  },
  {
   "cell_type": "code",
   "execution_count": 15,
   "metadata": {
    "scrolled": true
   },
   "outputs": [
    {
     "name": "stdout",
     "output_type": "stream",
     "text": [
      "[[3.25785559e+03 2.33037861e+00 8.44210016e+01 1.08223287e+01]\n",
      " [3.02847364e+03 1.15607288e+00 6.95084528e+01 3.27167154e+01]\n",
      " [3.45946393e+03 9.00705996e-01 3.50286490e+01 1.00444096e+01]\n",
      " ...\n",
      " [4.47393719e+03 1.81961079e+00 4.52229040e+01 2.64287544e+01]\n",
      " [1.44049367e+03 8.23981058e-01 3.58801505e+01 2.90364041e+01]\n",
      " [1.79785875e+03 1.45133267e+00 4.97405078e+01 1.34785464e+01]]\n"
     ]
    }
   ],
   "source": [
    "x = d[\"x_val\"]*(FA._prior_max - FA._prior_min) + FA._prior_min\n",
    "print(x)"
   ]
  },
  {
   "cell_type": "code",
   "execution_count": 16,
   "metadata": {
    "scrolled": true
   },
   "outputs": [
    {
     "data": {
      "text/plain": [
       "array([-13.87205315, -16.50964355, -10.91115952,  -8.31090164,\n",
       "        -3.99357843,  -7.7340765 ,  -4.43641567, -18.06742859,\n",
       "       -16.3566246 ,  -9.3070755 ,  -8.59885025, -15.84571075,\n",
       "        -6.05120087, -15.96609783,  -3.92420554,   3.85339427,\n",
       "       -16.84449959,  -4.53033161,  -6.87023735,  -8.69444847,\n",
       "       -18.11943436,  -7.55803871,  -7.22141361, -10.07719994,\n",
       "        -6.3930912 ,  -8.29854202,  -7.51918888, -12.66310501,\n",
       "        -7.05444145, -10.47530174, -10.3976059 ,  -9.06276512,\n",
       "       -11.11466026, -14.70831299,  -5.92405558,  -7.26188755,\n",
       "        -9.3502903 , -11.29143143,  -7.09145546,  -7.90888643,\n",
       "       -16.90991974,  -7.37544727,  -9.78392792, -13.57169342,\n",
       "       -17.40574265,  -8.9812355 , -13.63132191, -17.54860115,\n",
       "       -13.70261955, -16.1267395 ,  -6.11330891, -10.8710556 ,\n",
       "        -9.18021584,  -6.92271614, -10.329422  ,  -6.83127499,\n",
       "       -10.26504517, -18.54631424, -11.34042931, -15.04005527,\n",
       "       -15.24161911,  -5.90678453, -13.17948151, -15.25188351,\n",
       "       -15.46891022, -16.29350281, -16.7620182 ,  -9.74387836,\n",
       "        -6.0513463 , -11.36778069, -17.03990936,  -4.61414528,\n",
       "       -16.23550415,  -6.9726553 , -15.45025826, -12.72748184,\n",
       "       -11.68817139, -17.91008949, -11.05672741, -19.17433739,\n",
       "       -14.30262184,  -8.78889275, -11.24182224,  -4.20513868,\n",
       "        -9.9071312 ,  -5.9413271 , -16.10771179,  -8.46700191,\n",
       "       -13.71475601,  -6.98462963,  -6.890275  , -15.85517216,\n",
       "        -7.32002592,  -9.75317764, -10.2778635 ,  -4.29621363,\n",
       "       -18.58113098, -11.48420143,  -7.80922413, -12.30526543])"
      ]
     },
     "execution_count": 16,
     "metadata": {},
     "output_type": "execute_result"
    }
   ],
   "source": [
    "FA.predict(x[:100])[-1]"
   ]
  },
  {
   "cell_type": "code",
   "execution_count": 17,
   "metadata": {},
   "outputs": [
    {
     "data": {
      "text/plain": [
       "['luminosity_distance', 'theta_jn', 'mass_1', 'mass_2']"
      ]
     },
     "execution_count": 17,
     "metadata": {},
     "output_type": "execute_result"
    }
   ],
   "source": [
    "FA.parameter_names"
   ]
  }
 ],
 "metadata": {
  "kernelspec": {
   "display_name": "Python 3 (tf)",
   "language": "python",
   "name": "tf"
  },
  "language_info": {
   "codemirror_mode": {
    "name": "ipython",
    "version": 3
   },
   "file_extension": ".py",
   "mimetype": "text/x-python",
   "name": "python",
   "nbconvert_exporter": "python",
   "pygments_lexer": "ipython3",
   "version": "3.7.4"
  }
 },
 "nbformat": 4,
 "nbformat_minor": 2
}

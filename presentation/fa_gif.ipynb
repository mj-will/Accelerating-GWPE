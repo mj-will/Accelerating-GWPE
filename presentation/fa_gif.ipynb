{
 "cells": [
  {
   "cell_type": "markdown",
   "metadata": {},
   "source": [
    "# Make gifs of a neural network training"
   ]
  },
  {
   "cell_type": "code",
   "execution_count": 1,
   "metadata": {},
   "outputs": [],
   "source": [
    "import os\n",
    "import re\n",
    "import imageio"
   ]
  },
  {
   "cell_type": "code",
   "execution_count": 2,
   "metadata": {},
   "outputs": [],
   "source": [
    "def natural_sort(l): \n",
    "    \"\"\"Sort a list using natrual sorting\"\"\"\n",
    "    convert = lambda text: int(text) if text.isdigit() else text.lower() \n",
    "    alphanum_key = lambda key: [ convert(c) for c in re.split('([0-9]+)', key) ] \n",
    "    return sorted(l, key = alphanum_key)"
   ]
  },
  {
   "cell_type": "markdown",
   "metadata": {},
   "source": [
    "## Find the files"
   ]
  },
  {
   "cell_type": "code",
   "execution_count": 6,
   "metadata": {},
   "outputs": [],
   "source": [
    "function_filenames = []\n",
    "loss_filenames = []\n",
    "# directory with images\n",
    "plot_dir = \"../toy_models/fa_gif/\"\n",
    "for f in os.listdir(plot_dir):\n",
    "    if \"function\" in f:\n",
    "        function_filenames.append(plot_dir + f)\n",
    "    elif \"loss\" in f:\n",
    "        loss_filenames.append(plot_dir+f)\n",
    "# sort so they're in correct order\n",
    "function_filenames = natural_sort(function_filenames)\n",
    "loss_filenames = natural_sort(loss_filenames)"
   ]
  },
  {
   "cell_type": "markdown",
   "metadata": {},
   "source": [
    "## Make gifs"
   ]
  },
  {
   "cell_type": "code",
   "execution_count": 4,
   "metadata": {},
   "outputs": [],
   "source": [
    "images = []\n",
    "for filename in function_filenames:\n",
    "    images.append(imageio.imread(filename))\n",
    "imageio.mimsave('./function.gif', images)"
   ]
  },
  {
   "cell_type": "code",
   "execution_count": 5,
   "metadata": {},
   "outputs": [],
   "source": [
    "images = []\n",
    "for filename in loss_filenames:\n",
    "    images.append(imageio.imread(filename))\n",
    "imageio.mimsave('./loss.gif', images)"
   ]
  }
 ],
 "metadata": {
  "kernelspec": {
   "display_name": "Python 3 (graphviz)",
   "language": "python",
   "name": "graphviz"
  },
  "language_info": {
   "codemirror_mode": {
    "name": "ipython",
    "version": 3
   },
   "file_extension": ".py",
   "mimetype": "text/x-python",
   "name": "python",
   "nbconvert_exporter": "python",
   "pygments_lexer": "ipython3",
   "version": "3.6.7"
  }
 },
 "nbformat": 4,
 "nbformat_minor": 2
}
